{
 "cells": [
  {
   "cell_type": "code",
   "execution_count": 19,
   "metadata": {
    "collapsed": true
   },
   "outputs": [],
   "source": [
    "\"\"\"\n",
    "RNN基本模块\n",
    "\"\"\"\n",
    "import tensorflow as tf\n",
    "import numpy as np"
   ]
  },
  {
   "cell_type": "code",
   "execution_count": 20,
   "metadata": {},
   "outputs": [],
   "source": [
    "n_input=3\n",
    "n_neurons=5"
   ]
  },
  {
   "cell_type": "code",
   "execution_count": 21,
   "metadata": {},
   "outputs": [],
   "source": [
    "x0=tf.placeholder(tf.float32,shape=(None,3))\n",
    "x1=tf.placeholder(tf.float32,shape=(None,3))"
   ]
  },
  {
   "cell_type": "code",
   "execution_count": 22,
   "metadata": {},
   "outputs": [],
   "source": [
    "wx=tf.Variable(tf.random_normal(shape=[n_input,n_neurons]),dtype=tf.float32)\n",
    "wy=tf.Variable(tf.random_normal(shape=[n_neurons,n_neurons]),dtype=tf.float32)\n",
    "b=tf.Variable(tf.zeros(shape=[1,n_neurons],dtype=tf.float32))"
   ]
  },
  {
   "cell_type": "code",
   "execution_count": 23,
   "metadata": {},
   "outputs": [],
   "source": [
    "y0=tf.tanh(tf.matmul(x0,wx)+b)\n",
    "y1=tf.tanh(tf.matmul(x1,wx)+tf.matmul(y0,wy)+b)"
   ]
  },
  {
   "cell_type": "code",
   "execution_count": 24,
   "metadata": {},
   "outputs": [],
   "source": [
    "init=tf.global_variables_initializer()"
   ]
  },
  {
   "cell_type": "code",
   "execution_count": 25,
   "metadata": {},
   "outputs": [],
   "source": [
    "x0batch=[[0,1,2],[3,4,5],[6,7,8],[9,0,1]]\n",
    "x1batch=[[9,8,7],[0,0,0],[6,5,4],[3,2,1]]"
   ]
  },
  {
   "cell_type": "code",
   "execution_count": 26,
   "metadata": {},
   "outputs": [
    {
     "name": "stdout",
     "output_type": "stream",
     "text": [
      "haha\n[[-0.2634612  -0.9876896   0.99698883 -0.47161463 -0.6236638 ]\n [ 0.33230954 -0.99999994  1.         -0.93028086 -0.9999881 ]\n [ 0.74457514 -1.          1.         -0.99275964 -1.        ]\n [-0.9997258  -0.9998219  -0.9983823   0.99978644 -1.        ]] [[ 0.99941385 -1.          1.         -0.9340772  -1.        ]\n [ 0.98936814  0.6793077  -0.43627462  0.974578   -0.41346148]\n [ 0.99939936 -0.99999994  1.          0.6902869  -1.        ]\n [ 0.979837   -0.9999956   1.         -0.99796385 -1.        ]]\n"
     ]
    }
   ],
   "source": [
    "with tf.Session() as sess:\n",
    "    sess.run(init)\n",
    "    y0eval,y1eval=sess.run([y0,y1],feed_dict={\n",
    "        x0:x0batch,\n",
    "        x1:x1batch\n",
    "    })\n",
    "    print(\"haha\")\n",
    "    print(y0eval,y1eval)"
   ]
  }
 ],
 "metadata": {
  "kernelspec": {
   "display_name": "Python 2",
   "language": "python",
   "name": "python2"
  },
  "language_info": {
   "codemirror_mode": {
    "name": "ipython",
    "version": 2
   },
   "file_extension": ".py",
   "mimetype": "text/x-python",
   "name": "python",
   "nbconvert_exporter": "python",
   "pygments_lexer": "ipython2",
   "version": "2.7.6"
  }
 },
 "nbformat": 4,
 "nbformat_minor": 0
}
