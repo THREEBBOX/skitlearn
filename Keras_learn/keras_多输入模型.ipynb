{
 "cells": [
  {
   "cell_type": "code",
   "execution_count": 1,
   "metadata": {
    "collapsed": true
   },
   "outputs": [],
   "source": [
    "%matplotlib inline"
   ]
  },
  {
   "cell_type": "code",
   "execution_count": 3,
   "metadata": {},
   "outputs": [],
   "source": [
    "from keras.models import Model\n",
    "from keras import Model,Input,layers\n",
    "test_vocabulary_size=10000\n",
    "question_vocabulary_size=10000\n",
    "answer_vocabulary=500"
   ]
  },
  {
   "cell_type": "code",
   "execution_count": 4,
   "metadata": {},
   "outputs": [
    {
     "name": "stdout",
     "output_type": "stream",
     "text": [
      "WARNING:tensorflow:From E:\\Jupystertry\\lib\\site-packages\\tensorflow\\python\\framework\\op_def_library.py:263: colocate_with (from tensorflow.python.framework.ops) is deprecated and will be removed in a future version.\nInstructions for updating:\nColocations handled automatically by placer.\n"
     ]
    }
   ],
   "source": [
    "text_input=Input(shape=(None,),dtype='int32',name='text')\n",
    "embedded_text=layers.Embedding(test_vocabulary_size,64)(text_input)\n",
    "encoded_text=layers.LSTM(32)(embedded_text)\n",
    "question_input=Input(shape=(None,),dtype='int32',name='question')\n",
    "embedded_question=layers.Embedding(question_vocabulary_size,32)(question_input)\n",
    "encoded_question=layers.LSTM(16)(embedded_question)\n",
    "concatenated=layers.concatenate([encoded_text,encoded_question],axis=-1)\n",
    "answer=layers.Dense(answer_vocabulary,activation='softmax')(concatenated)"
   ]
  },
  {
   "cell_type": "code",
   "execution_count": 5,
   "metadata": {},
   "outputs": [
    {
     "name": "stdout",
     "output_type": "stream",
     "text": [
      "Model: \"model_1\"\n__________________________________________________________________________________________________\nLayer (type)                    Output Shape         Param #     Connected to                     \n==================================================================================================\ntext (InputLayer)               (None, None)         0                                            \n__________________________________________________________________________________________________\nquestion (InputLayer)           (None, None)         0                                            \n__________________________________________________________________________________________________\nembedding_1 (Embedding)         (None, None, 64)     640000      text[0][0]                       \n__________________________________________________________________________________________________\nembedding_2 (Embedding)         (None, None, 32)     320000      question[0][0]                   \n__________________________________________________________________________________________________\nlstm_1 (LSTM)                   (None, 32)           12416       embedding_1[0][0]                \n__________________________________________________________________________________________________\nlstm_2 (LSTM)                   (None, 16)           3136        embedding_2[0][0]                \n__________________________________________________________________________________________________\nconcatenate_1 (Concatenate)     (None, 48)           0           lstm_1[0][0]                     \n                                                                 lstm_2[0][0]                     \n__________________________________________________________________________________________________\ndense_1 (Dense)                 (None, 500)          24500       concatenate_1[0][0]              \n==================================================================================================\nTotal params: 1,000,052\nTrainable params: 1,000,052\nNon-trainable params: 0\n__________________________________________________________________________________________________\n"
     ]
    }
   ],
   "source": [
    "model=Model([text_input,question_input],answer)\n",
    "model.summary()"
   ]
  },
  {
   "cell_type": "code",
   "execution_count": null,
   "metadata": {},
   "outputs": [],
   "source": []
  },
  {
   "cell_type": "code",
   "execution_count": null,
   "metadata": {},
   "outputs": [],
   "source": []
  },
  {
   "cell_type": "code",
   "execution_count": null,
   "metadata": {},
   "outputs": [],
   "source": []
  },
  {
   "cell_type": "code",
   "execution_count": null,
   "metadata": {},
   "outputs": [],
   "source": []
  },
  {
   "cell_type": "code",
   "execution_count": null,
   "metadata": {},
   "outputs": [],
   "source": []
  },
  {
   "cell_type": "code",
   "execution_count": null,
   "metadata": {},
   "outputs": [],
   "source": []
  },
  {
   "cell_type": "code",
   "execution_count": null,
   "metadata": {},
   "outputs": [],
   "source": []
  }
 ],
 "metadata": {
  "kernelspec": {
   "display_name": "Python 2",
   "language": "python",
   "name": "python2"
  },
  "language_info": {
   "codemirror_mode": {
    "name": "ipython",
    "version": 2
   },
   "file_extension": ".py",
   "mimetype": "text/x-python",
   "name": "python",
   "nbconvert_exporter": "python",
   "pygments_lexer": "ipython2",
   "version": "2.7.6"
  }
 },
 "nbformat": 4,
 "nbformat_minor": 0
}
