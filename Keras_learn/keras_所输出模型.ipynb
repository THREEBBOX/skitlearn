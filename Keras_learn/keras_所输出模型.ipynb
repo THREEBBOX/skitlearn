{
 "cells": [
  {
   "cell_type": "code",
   "execution_count": 0,
   "metadata": {
    "collapsed": true
   },
   "outputs": [
    {
     "name": "stderr",
     "output_type": "stream",
     "text": [
      "Using TensorFlow backend.\n"
     ]
    }
   ],
   "source": [
    "from keras import layers,Input\n",
    "from keras.models import Model\n"
   ]
  },
  {
   "cell_type": "code",
   "execution_count": 2,
   "metadata": {},
   "outputs": [],
   "source": [
    "vocabulary_size=50000\n",
    "num_income_groups=10"
   ]
  },
  {
   "cell_type": "code",
   "execution_count": 3,
   "metadata": {},
   "outputs": [
    {
     "name": "stdout",
     "output_type": "stream",
     "text": [
      "WARNING:tensorflow:From E:\\Jupystertry\\lib\\site-packages\\tensorflow\\python\\framework\\op_def_library.py:263: colocate_with (from tensorflow.python.framework.ops) is deprecated and will be removed in a future version.\nInstructions for updating:\nColocations handled automatically by placer.\n"
     ]
    }
   ],
   "source": [
    "posts_input=Input(shape=(None,),dtype='int32',name='posts')\n",
    "embedded_posts=layers.Embedding(vocabulary_size,256)(posts_input)\n",
    "x=layers.Conv1D(128,5,activation='relu')(embedded_posts)\n",
    "x=layers.MaxPooling1D(5)(x)\n",
    "x=layers.Conv1D(256,5,activation='relu')(x)\n",
    "x=layers.Conv1D(256,5,activation='relu')(x)\n",
    "x=layers.MaxPooling1D(5)(x)\n",
    "x=layers.Conv1D(256,5,activation='relu')(x)\n",
    "x=layers.Conv1D(256,5,activation='relu')(x)\n",
    "x=layers.GlobalMaxPool1D()(x)\n",
    "x=layers.Dense(128,activation='relu')(x)"
   ]
  },
  {
   "cell_type": "code",
   "execution_count": 5,
   "metadata": {},
   "outputs": [
    {
     "name": "stdout",
     "output_type": "stream",
     "text": [
      "Model: \"model_2\"\n__________________________________________________________________________________________________\nLayer (type)                    Output Shape         Param #     Connected to                     \n==================================================================================================\nposts (InputLayer)              (None, None)         0                                            \n__________________________________________________________________________________________________\nembedding_1 (Embedding)         (None, None, 256)    12800000    posts[0][0]                      \n__________________________________________________________________________________________________\nconv1d_1 (Conv1D)               (None, None, 128)    163968      embedding_1[0][0]                \n__________________________________________________________________________________________________\nmax_pooling1d_1 (MaxPooling1D)  (None, None, 128)    0           conv1d_1[0][0]                   \n__________________________________________________________________________________________________\nconv1d_2 (Conv1D)               (None, None, 256)    164096      max_pooling1d_1[0][0]            \n__________________________________________________________________________________________________\nconv1d_3 (Conv1D)               (None, None, 256)    327936      conv1d_2[0][0]                   \n__________________________________________________________________________________________________\nmax_pooling1d_2 (MaxPooling1D)  (None, None, 256)    0           conv1d_3[0][0]                   \n__________________________________________________________________________________________________\nconv1d_4 (Conv1D)               (None, None, 256)    327936      max_pooling1d_2[0][0]            \n__________________________________________________________________________________________________\nconv1d_5 (Conv1D)               (None, None, 256)    327936      conv1d_4[0][0]                   \n__________________________________________________________________________________________________\nglobal_max_pooling1d_1 (GlobalM (None, 256)          0           conv1d_5[0][0]                   \n__________________________________________________________________________________________________\ndense_1 (Dense)                 (None, 128)          32896       global_max_pooling1d_1[0][0]     \n__________________________________________________________________________________________________\nage (Dense)                     (None, 1)            129         dense_1[0][0]                    \n__________________________________________________________________________________________________\nincome (Dense)                  (None, 10)           1290        dense_1[0][0]                    \n__________________________________________________________________________________________________\ngender (Dense)                  (None, 1)            129         dense_1[0][0]                    \n==================================================================================================\nTotal params: 14,146,316\nTrainable params: 14,146,316\nNon-trainable params: 0\n__________________________________________________________________________________________________\n"
     ]
    }
   ],
   "source": [
    "age_prediction=layers.Dense(1,name='age')(x)\n",
    "income_prediction=layers.Dense(\n",
    "    num_income_groups,\n",
    "    activation='softmax',\n",
    "    name='income'\n",
    ")(x)\n",
    "gender_prediction=layers.Dense(1,activation='sigmoid',name='gender')(x)\n",
    "model=Model(posts_input,[age_prediction,income_prediction,gender_prediction])\n",
    "model.summary()"
   ]
  },
  {
   "cell_type": "code",
   "execution_count": 6,
   "metadata": {},
   "outputs": [],
   "source": [
    "from keras import losses\n",
    "model.compile(\n",
    "    optimizer='rmsprop',\n",
    "    loss=[losses.mean_squared_error,losses.categorical_crossentropy,losses.binary_crossentropy]\n",
    ")\n",
    "\"\"\"\n",
    "loss={\n",
    "'age':'mse'\n",
    "'income':'categorical_crossentropy'\n",
    "'gender':'binary_crossentropy'\n",
    "}\n",
    "another method\n",
    "\"\"\""
   ]
  },
  {
   "cell_type": "code",
   "execution_count": null,
   "metadata": {},
   "outputs": [],
   "source": []
  },
  {
   "cell_type": "code",
   "execution_count": null,
   "metadata": {},
   "outputs": [],
   "source": []
  },
  {
   "cell_type": "code",
   "execution_count": null,
   "metadata": {},
   "outputs": [],
   "source": []
  },
  {
   "cell_type": "code",
   "execution_count": null,
   "metadata": {},
   "outputs": [],
   "source": []
  }
 ],
 "metadata": {
  "kernelspec": {
   "display_name": "Python 2",
   "language": "python",
   "name": "python2"
  },
  "language_info": {
   "codemirror_mode": {
    "name": "ipython",
    "version": 2
   },
   "file_extension": ".py",
   "mimetype": "text/x-python",
   "name": "python",
   "nbconvert_exporter": "python",
   "pygments_lexer": "ipython2",
   "version": "2.7.6"
  }
 },
 "nbformat": 4,
 "nbformat_minor": 0
}
