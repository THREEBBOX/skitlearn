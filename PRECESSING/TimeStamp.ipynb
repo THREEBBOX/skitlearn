{
 "cells": [
  {
   "cell_type": "code",
   "execution_count": 1,
   "metadata": {
    "collapsed": true
   },
   "outputs": [],
   "source": [
    "import pandas as pd\n",
    "import numpy as np\n",
    "import sklearn"
   ]
  },
  {
   "cell_type": "code",
   "execution_count": 2,
   "metadata": {},
   "outputs": [],
   "source": [
    "data_string = np.array(\n",
    "    [\n",
    "        '03-04-2005 11:35 PM',\n",
    "        '10-04-2010 12:35 AM',\n",
    "        '04-09-2009 09:09 PM'\n",
    "    ]\n",
    ")\n"
   ]
  },
  {
   "cell_type": "code",
   "execution_count": 4,
   "metadata": {},
   "outputs": [],
   "source": [
    "timestap=[pd.to_datetime(data, format='%d-%m-%Y %I:%M %p') for data in data_string]\n"
   ]
  },
  {
   "cell_type": "code",
   "execution_count": 5,
   "metadata": {},
   "outputs": [
    {
     "data": {
      "text/plain": [
       "[Timestamp('2005-04-03 23:35:00'),\n Timestamp('2010-04-10 00:35:00'),\n Timestamp('2009-09-04 21:09:00')]"
      ]
     },
     "execution_count": 5,
     "metadata": {},
     "output_type": "execute_result"
    }
   ],
   "source": [
    "timestap"
   ]
  },
  {
   "cell_type": "code",
   "execution_count": 6,
   "metadata": {},
   "outputs": [],
   "source": [
    "data=pd.Timestamp('2017-05-06 06:00:06')\n"
   ]
  },
  {
   "cell_type": "code",
   "execution_count": 7,
   "metadata": {},
   "outputs": [
    {
     "data": {
      "text/plain": [
       "Timestamp('2017-05-06 06:00:06+0100', tz='Europe/London')"
      ]
     },
     "execution_count": 7,
     "metadata": {},
     "output_type": "execute_result"
    }
   ],
   "source": [
    "data=data.tz_localize('Europe/London')\n",
    "data"
   ]
  },
  {
   "cell_type": "code",
   "execution_count": 8,
   "metadata": {},
   "outputs": [
    {
     "data": {
      "text/plain": [
       "Timestamp('2017-05-06 05:00:06+0000', tz='Africa/Abidjan')"
      ]
     },
     "execution_count": 8,
     "metadata": {},
     "output_type": "execute_result"
    }
   ],
   "source": [
    "data=data.tz_convert('Africa/Abidjan')\n",
    "data"
   ]
  },
  {
   "cell_type": "code",
   "execution_count": 9,
   "metadata": {},
   "outputs": [
    {
     "data": {
      "text/plain": [
       "0   2002-02-28\n1   2002-03-31\n2   2002-04-30\ndtype: datetime64[ns]"
      ]
     },
     "execution_count": 9,
     "metadata": {},
     "output_type": "execute_result"
    }
   ],
   "source": [
    "dates=pd.Series(pd.date_range('2/2/2002',periods=3,freq='M'))\n",
    "dates"
   ]
  },
  {
   "cell_type": "code",
   "execution_count": 10,
   "metadata": {},
   "outputs": [],
   "source": [
    "dataframe=pd.DataFrame()\n",
    "dataframe['date']=pd.date_range('1/1/2002 01:00:00',periods=10000,freq='H')"
   ]
  },
  {
   "cell_type": "code",
   "execution_count": 12,
   "metadata": {},
   "outputs": [
    {
     "name": "stdout",
     "output_type": "stream",
     "text": [
      "                 date\n1 2002-01-01 02:00:00\n2 2002-01-01 03:00:00\n"
     ]
    }
   ],
   "source": [
    "result=dataframe[(dataframe['date']>'2002-1-1 01:00:00')&(dataframe['date']<'2002-1-1 04:00:00')]\n",
    "print(result)"
   ]
  },
  {
   "cell_type": "code",
   "execution_count": 15,
   "metadata": {},
   "outputs": [
    {
     "name": "stdout",
     "output_type": "stream",
     "text": [
      "                                   date\ndate                                   \n2002-01-01 01:00:00 2002-01-01 01:00:00\n2002-01-01 02:00:00 2002-01-01 02:00:00\n2002-01-01 03:00:00 2002-01-01 03:00:00\n2002-01-01 04:00:00 2002-01-01 04:00:00\n"
     ]
    }
   ],
   "source": [
    "dataframe=dataframe.set_index(dataframe['date'])\n",
    "result=dataframe.loc['2002-1-1 01:00:00':'2002-1-1 04:00:00']\n",
    "print(result)"
   ]
  },
  {
   "cell_type": "code",
   "execution_count": 16,
   "metadata": {},
   "outputs": [],
   "source": [
    "dataframe=pd.DataFrame()"
   ]
  },
  {
   "cell_type": "code",
   "execution_count": 17,
   "metadata": {},
   "outputs": [],
   "source": [
    "dataframe['date']=pd.date_range('2002-1-1 01:00:00',periods=1000,freq='W')\n",
    "dataframe['day']=dataframe['date'].dt.day"
   ]
  },
  {
   "cell_type": "code",
   "execution_count": 18,
   "metadata": {},
   "outputs": [
    {
     "name": "stdout",
     "output_type": "stream",
     "text": [
      "                   date  day\n0   2002-01-06 01:00:00    6\n1   2002-01-13 01:00:00   13\n2   2002-01-20 01:00:00   20\n3   2002-01-27 01:00:00   27\n4   2002-02-03 01:00:00    3\n..                  ...  ...\n995 2021-01-31 01:00:00   31\n996 2021-02-07 01:00:00    7\n997 2021-02-14 01:00:00   14\n998 2021-02-21 01:00:00   21\n999 2021-02-28 01:00:00   28\n\n[1000 rows x 2 columns]\n"
     ]
    }
   ],
   "source": [
    "print(dataframe)"
   ]
  },
  {
   "cell_type": "code",
   "execution_count": 19,
   "metadata": {},
   "outputs": [],
   "source": [
    "dataframe=pd.DataFrame()\n",
    "dataframe['date']=pd.date_range('2002-1-1 01:00:00',periods=5,freq='W')"
   ]
  },
  {
   "cell_type": "code",
   "execution_count": 20,
   "metadata": {},
   "outputs": [
    {
     "name": "stdout",
     "output_type": "stream",
     "text": [
      "                 date  price  previous_price\n0 2002-01-06 01:00:00      1             NaN\n1 2002-01-13 01:00:00      2             1.0\n2 2002-01-20 01:00:00      3             2.0\n3 2002-01-27 01:00:00      4             3.0\n4 2002-02-03 01:00:00      5             4.0\n"
     ]
    }
   ],
   "source": [
    "dataframe['price']=[1,2,3,4,5]\n",
    "dataframe['previous_price']=dataframe['price'].shift(1)\n",
    "print(dataframe)"
   ]
  },
  {
   "cell_type": "code",
   "execution_count": 21,
   "metadata": {},
   "outputs": [
    {
     "name": "stdout",
     "output_type": "stream",
     "text": [
      "3 days 00:00:00\n"
     ]
    }
   ],
   "source": [
    "a=pd.to_timedelta('3 days')\n",
    "print(a)"
   ]
  },
  {
   "cell_type": "code",
   "execution_count": 22,
   "metadata": {},
   "outputs": [
    {
     "name": "stdout",
     "output_type": "stream",
     "text": [
      "            sale\n2002-10-31   1.0\n2002-11-30   2.0\n2002-12-31   NaN\n2003-01-31   NaN\n2003-02-28   5.0\n"
     ]
    }
   ],
   "source": [
    "time_index=pd.date_range('2002-10-7',periods=5,freq='M')\n",
    "dataframe=pd.DataFrame(index=time_index)\n",
    "dataframe['sale']=[1.,2.,np.nan,np.nan,5.0]\n",
    "print(dataframe)"
   ]
  },
  {
   "cell_type": "code",
   "execution_count": 24,
   "metadata": {},
   "outputs": [
    {
     "name": "stdout",
     "output_type": "stream",
     "text": [
      "            sale\n2002-10-31   1.0\n2002-11-30   2.0\n2002-12-31   3.0\n2003-01-31   4.0\n2003-02-28   5.0\n"
     ]
    }
   ],
   "source": [
    "a=dataframe.interpolate()\n",
    "print(a)"
   ]
  },
  {
   "cell_type": "code",
   "execution_count": 25,
   "metadata": {},
   "outputs": [
    {
     "name": "stdout",
     "output_type": "stream",
     "text": [
      "            sale\n2002-10-31   1.0\n2002-11-30   2.0\n2002-12-31   2.0\n2003-01-31   2.0\n2003-02-28   5.0\n"
     ]
    }
   ],
   "source": [
    "b=dataframe.ffill()\n",
    "print(b)"
   ]
  },
  {
   "cell_type": "code",
   "execution_count": 27,
   "metadata": {},
   "outputs": [
    {
     "name": "stdout",
     "output_type": "stream",
     "text": [
      "            sale\n2002-10-31   1.0\n2002-11-30   2.0\n2002-12-31   5.0\n2003-01-31   5.0\n2003-02-28   5.0\n"
     ]
    }
   ],
   "source": [
    "c=dataframe.bfill()\n",
    "print(c)"
   ]
  },
  {
   "cell_type": "code",
   "execution_count": 28,
   "metadata": {},
   "outputs": [
    {
     "data": {
      "text/plain": [
       "'4.1.2'"
      ]
     },
     "execution_count": 28,
     "metadata": {},
     "output_type": "execute_result"
    }
   ],
   "source": [
    "import cv2\n",
    "cv2.__version__"
   ]
  },
  {
   "cell_type": "code",
   "execution_count": null,
   "metadata": {},
   "outputs": [],
   "source": []
  }
 ],
 "metadata": {
  "kernelspec": {
   "display_name": "Python 2",
   "language": "python",
   "name": "python2"
  },
  "language_info": {
   "codemirror_mode": {
    "name": "ipython",
    "version": 2
   },
   "file_extension": ".py",
   "mimetype": "text/x-python",
   "name": "python",
   "nbconvert_exporter": "python",
   "pygments_lexer": "ipython2",
   "version": "2.7.6"
  }
 },
 "nbformat": 4,
 "nbformat_minor": 0
}
