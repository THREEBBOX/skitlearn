{
 "cells": [
  {
   "cell_type": "code",
   "execution_count": 1,
   "metadata": {
    "collapsed": true
   },
   "outputs": [],
   "source": [
    "\"\"\"\n",
    "l1,l2 正则化\n",
    "交互式\n",
    "特征转换\n",
    "转换器\n",
    "异常值：椭圆检测，四分位差检测\n",
    "特征离散化\n",
    "\"\"\"\n",
    "\n",
    "import numpy as np\n",
    "import sklearn"
   ]
  },
  {
   "cell_type": "code",
   "execution_count": 8,
   "metadata": {},
   "outputs": [
    {
     "name": "stdout",
     "output_type": "stream",
     "text": [
      "[[1 1 2 8]\n [9 6 9 1]\n [6 9 2 8]]\n"
     ]
    }
   ],
   "source": [
    "features=np.random.randint(10,size=(3,4))\n",
    "print(features)"
   ]
  },
  {
   "cell_type": "code",
   "execution_count": 10,
   "metadata": {},
   "outputs": [
    {
     "name": "stdout",
     "output_type": "stream",
     "text": [
      "[[0.11952286 0.11952286 0.23904572 0.95618289]\n [0.63799308 0.42532872 0.63799308 0.07088812]\n [0.44112877 0.66169316 0.14704292 0.5881717 ]]\n"
     ]
    }
   ],
   "source": [
    "from sklearn.preprocessing import Normalizer\n",
    "normalizer=Normalizer(norm='l2')\n",
    "features=normalizer.transform(features)\n",
    "print(features)"
   ]
  },
  {
   "cell_type": "code",
   "execution_count": 11,
   "metadata": {},
   "outputs": [
    {
     "data": {
      "text/plain": [
       "array([[2., 3., 4., 6., 9.],\n       [2., 3., 4., 6., 9.],\n       [2., 3., 4., 6., 9.]])"
      ]
     },
     "execution_count": 11,
     "metadata": {},
     "output_type": "execute_result"
    }
   ],
   "source": [
    "from sklearn.preprocessing import PolynomialFeatures\n",
    "features=[\n",
    "    [2,3],\n",
    "    [2,3],\n",
    "    [2,3]\n",
    "]\n",
    "poly_interaction=PolynomialFeatures(degree=2,include_bias=False)\n",
    "poly_interaction.fit_transform(features)"
   ]
  },
  {
   "cell_type": "code",
   "execution_count": 12,
   "metadata": {},
   "outputs": [
    {
     "data": {
      "text/plain": [
       "array([[2., 3., 6.],\n       [2., 3., 6.],\n       [2., 3., 6.]])"
      ]
     },
     "execution_count": 12,
     "metadata": {},
     "output_type": "execute_result"
    }
   ],
   "source": [
    "\"\"\"\n",
    "不包含x1 * x2 项\n",
    "\"\"\"\n",
    "poly_interaction=PolynomialFeatures(degree=2,include_bias=False,interaction_only=True)\n",
    "poly_interaction.fit_transform(features)"
   ]
  },
  {
   "cell_type": "code",
   "execution_count": 13,
   "metadata": {},
   "outputs": [],
   "source": [
    "features=np.array(\n",
    "    [\n",
    "        [2,3],\n",
    "        [2,3],\n",
    "        [2,3],\n",
    "    ]\n",
    ")"
   ]
  },
  {
   "cell_type": "code",
   "execution_count": 14,
   "metadata": {},
   "outputs": [
    {
     "name": "stderr",
     "output_type": "stream",
     "text": [
      "E:\\DEEPENV\\lib\\site-packages\\sklearn\\preprocessing\\_function_transformer.py:97: FutureWarning: The default validate=True will be replaced by validate=False in 0.22.\n  \"validate=False in 0.22.\", FutureWarning)\n"
     ]
    },
    {
     "data": {
      "text/plain": [
       "array([[12, 13],\n       [12, 13],\n       [12, 13]])"
      ]
     },
     "execution_count": 14,
     "metadata": {},
     "output_type": "execute_result"
    }
   ],
   "source": [
    "def add_ten(x):\n",
    "    return x+10\n",
    "from sklearn.preprocessing import FunctionTransformer\n",
    "ten_transform = FunctionTransformer(add_ten)\n",
    "ten_transform.transform(features)"
   ]
  },
  {
   "cell_type": "code",
   "execution_count": 16,
   "metadata": {},
   "outputs": [
    {
     "name": "stdout",
     "output_type": "stream",
     "text": [
      "[[-1.83198811  3.52863145]\n [-2.76017908  5.55121358]\n [-1.61734616  4.98930508]\n [-0.52579046  3.3065986 ]\n [ 0.08525186  3.64528297]\n [-0.79415228  2.10495117]\n [-1.34052081  4.15711949]\n [-1.98197711  4.02243551]\n [-2.18773166  3.33352125]\n [-0.19745197  2.34634916]]\n"
     ]
    }
   ],
   "source": [
    "from sklearn.covariance import EllipticEnvelope\n",
    "from sklearn.datasets import make_blobs\n",
    "features,_=make_blobs(\n",
    "    n_samples=10,\n",
    "    n_features=2,\n",
    "    centers=1,\n",
    "    random_state=1\n",
    ")\n",
    "print(features)"
   ]
  },
  {
   "cell_type": "code",
   "execution_count": 17,
   "metadata": {},
   "outputs": [
    {
     "data": {
      "text/plain": [
       "array([-1,  1,  1,  1,  1,  1,  1,  1,  1,  1])"
      ]
     },
     "execution_count": 17,
     "metadata": {},
     "output_type": "execute_result"
    }
   ],
   "source": [
    "features[0,0]=1000\n",
    "features[0,1]=1000\n",
    "outlier_dectort=EllipticEnvelope(contamination=.1)#污染指数，异常值在整体值中的比例\n",
    "outlier_dectort.fit(features)\n",
    "outlier_dectort.predict(features)"
   ]
  },
  {
   "cell_type": "code",
   "execution_count": 21,
   "metadata": {},
   "outputs": [
    {
     "data": {
      "text/plain": [
       "array([[0],\n       [0],\n       [1],\n       [1],\n       [1]])"
      ]
     },
     "execution_count": 21,
     "metadata": {},
     "output_type": "execute_result"
    }
   ],
   "source": [
    "from sklearn.preprocessing import Binarizer\n",
    "age=np.array([\n",
    "    [6],\n",
    "    [12],\n",
    "    [24],\n",
    "    [35],\n",
    "    [80]\n",
    "])\n",
    "binarizer=Binarizer(18)\n",
    "bage=binarizer.transform(age)\n",
    "bage"
   ]
  },
  {
   "cell_type": "code",
   "execution_count": 22,
   "metadata": {},
   "outputs": [
    {
     "data": {
      "text/plain": [
       "array([[0],\n       [0],\n       [1],\n       [2],\n       [3]], dtype=int64)"
      ]
     },
     "execution_count": 22,
     "metadata": {},
     "output_type": "execute_result"
    }
   ],
   "source": [
    "np.digitize(age,bins=[20,30,60],right=True)#是否包含右界"
   ]
  },
  {
   "cell_type": "code",
   "execution_count": 23,
   "metadata": {},
   "outputs": [
    {
     "data": {
      "text/plain": [
       "array([[ 1.1, 11.1],\n       [ 2.1, 12.1],\n       [ 3.1, 13.1]])"
      ]
     },
     "execution_count": 23,
     "metadata": {},
     "output_type": "execute_result"
    }
   ],
   "source": [
    "features=np.array([\n",
    "    [1.1,11.1],\n",
    "    [2.1,12.1],\n",
    "    [3.1,13.1],\n",
    "    [np.nan,14.1],\n",
    "]\n",
    ")\n",
    "features[~np.isnan(features).any(axis=1)]"
   ]
  },
  {
   "cell_type": "code",
   "execution_count": null,
   "metadata": {},
   "outputs": [],
   "source": []
  },
  {
   "cell_type": "code",
   "execution_count": null,
   "metadata": {},
   "outputs": [],
   "source": []
  }
 ],
 "metadata": {
  "kernelspec": {
   "display_name": "Python 2",
   "language": "python",
   "name": "python2"
  },
  "language_info": {
   "codemirror_mode": {
    "name": "ipython",
    "version": 2
   },
   "file_extension": ".py",
   "mimetype": "text/x-python",
   "name": "python",
   "nbconvert_exporter": "python",
   "pygments_lexer": "ipython2",
   "version": "2.7.6"
  }
 },
 "nbformat": 4,
 "nbformat_minor": 0
}
