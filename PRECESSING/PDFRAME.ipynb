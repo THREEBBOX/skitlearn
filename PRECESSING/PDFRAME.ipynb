{
 "cells": [
  {
   "cell_type": "code",
   "execution_count": 16,
   "metadata": {
    "collapsed": true
   },
   "outputs": [],
   "source": [
    "\"\"\"\n",
    "通过过滤进行筛选\n",
    "重命名\n",
    "查看唯一值\n",
    "分组\n",
    "\"\"\"\n",
    "%matplotlib inline\n",
    "import pandas as pd"
   ]
  },
  {
   "cell_type": "code",
   "execution_count": 17,
   "metadata": {},
   "outputs": [],
   "source": [
    "url = 'https://raw.githubusercontent.com/chrisalbon/simulated_datasets/master/titanic.csv'\n",
    "dataframe=pd.read_csv(url)\n"
   ]
  },
  {
   "cell_type": "code",
   "execution_count": 18,
   "metadata": {},
   "outputs": [
    {
     "name": "stdout",
     "output_type": "stream",
     "text": [
      "                                            Name PClass   Age     Sex  \\\n0                   Allen, Miss Elisabeth Walton    1st  29.0  female   \n1                    Allison, Miss Helen Loraine    1st   2.0  female   \n3  Allison, Mrs Hudson JC (Bessie Waldo Daniels)    1st  25.0  female   \n\n   Survived  SexCode  \n0         1        1  \n1         0        1  \n3         0        1  \n"
     ]
    }
   ],
   "source": [
    "print(dataframe[dataframe['Sex']=='female'].head(3))"
   ]
  },
  {
   "cell_type": "code",
   "execution_count": 19,
   "metadata": {},
   "outputs": [
    {
     "name": "stdout",
     "output_type": "stream",
     "text": [
      "                                        Name PClass    Age     Sex  Survived  \\\n1                Allison, Miss Helen Loraine    1st   2.00  female         0   \n49                  Carter, Miss Lucile Polk    1st  14.00  female         1   \n338               Becker, Miss Marion Louise    2nd   4.00  female         1   \n340              Becker, Miss Ruth Elizabeth    2nd  12.00  female         1   \n376                   Collyer, Miss Marjorie    2nd   8.00  female         1   \n428                        Harper, Miss Nina    2nd   6.00  female         1   \n433                    Hart, Miss Eva Miriam    2nd   7.00  female         1   \n478                     LaRoche, Miss Louise    2nd   1.00  female         1   \n479                    LaRoche, Miss Simonne    2nd   3.00  female         1   \n501         Mellenger, Miss Madeleine Violet    2nd  13.00  female         1   \n537                  Quick, Miss Phyllis May    2nd   2.00  female         1   \n538                Quick, Miss Winifred Vera    2nd   8.00  female         1   \n578                        Watt, Miss Bertha    2nd  12.00  female         1   \n584                         Wells, Miss Joan    2nd   4.00  female         1   \n626                Andersson, Miss Ebba Iris    3rd   6.00  female         0   \n627         Andersson, Miss Ellis Anna Maria    3rd   2.00  female         0   \n630      Andersson, Miss Ingeborg Constancia    3rd   9.00  female         0   \n632         Andersson, Miss Sigrid Elizabeth    3rd  11.00  female         0   \n647            Asplund, Miss Lillian Gertrud    3rd   5.00  female         1   \n657                    Baclini, Miss Eugenie    3rd   3.00  female         1   \n680                       Boulos, Miss Laura    3rd   9.00  female         0   \n763   Dean, Miss Elizabeth Gladys (Millvena)    3rd   0.17  female         1   \n794             Emanuel, Miss Virginia Ethel    3rd   5.00  female         1   \n808                        Ford, Miss Maggie    3rd   9.00  female         0   \n829                   Goodwin, Miss Jessie A    3rd  10.00  female         0   \n866                  Hirvonen, Miss Hildur E    3rd   2.00  female         0   \n893              Johnson, Miss Eleanor Ileen    3rd   1.00  female         1   \n914                    Karun, Miss Anna Mary    3rd   4.00  female         1   \n933               Kink, Miss Louise Gretchen    3rd   4.00  female         1   \n936              Klasen, Miss Gertrud Emilia    3rd   1.50  female         0   \n1188          Sandstrom, Miss Beatrice Irene    3rd   1.50  female         0   \n1276                Van Impe, Miss Catharine    3rd  10.00  female         0   \n1283     Vestrom, Miss Hulda Amanda Adolfina    3rd  14.00  female         0   \n\n      SexCode  \n1           1  \n49          1  \n338         1  \n340         1  \n376         1  \n428         1  \n433         1  \n478         1  \n479         1  \n501         1  \n537         1  \n538         1  \n578         1  \n584         1  \n626         1  \n627         1  \n630         1  \n632         1  \n647         1  \n657         1  \n680         1  \n763         1  \n794         1  \n808         1  \n829         1  \n866         1  \n893         1  \n914         1  \n933         1  \n936         1  \n1188        1  \n1276        1  \n1283        1  \n"
     ]
    }
   ],
   "source": [
    "print(dataframe[(dataframe['Sex']=='female')&(dataframe['Age']<15.00)])"
   ]
  },
  {
   "cell_type": "code",
   "execution_count": 23,
   "metadata": {},
   "outputs": [
    {
     "name": "stdout",
     "output_type": "stream",
     "text": [
      "0    women\n1    women\nName: Sex, dtype: object\n"
     ]
    }
   ],
   "source": [
    "dataframe['Sex']=dataframe['Sex'].replace(\"female\",\"women\")\n",
    "print(dataframe['Sex'].replace(\"female\",\"women\").head(2))\n"
   ]
  },
  {
   "cell_type": "code",
   "execution_count": 24,
   "metadata": {},
   "outputs": [
    {
     "name": "stdout",
     "output_type": "stream",
     "text": [
      "                                               Name PClass    Age    Sex  \\\n0                      Allen, Miss Elisabeth Walton    1st  29.00  women   \n1                       Allison, Miss Helen Loraine    1st   2.00  women   \n2               Allison, Mr Hudson Joshua Creighton    1st  30.00   male   \n3     Allison, Mrs Hudson JC (Bessie Waldo Daniels)    1st  25.00  women   \n4                     Allison, Master Hudson Trevor    1st   0.92   male   \n...                                             ...    ...    ...    ...   \n1308                             Zakarian, Mr Artun    3rd  27.00   male   \n1309                         Zakarian, Mr Maprieder    3rd  26.00   male   \n1310                               Zenni, Mr Philip    3rd  22.00   male   \n1311                               Lievens, Mr Rene    3rd  24.00   male   \n1312                                 Zimmerman, Leo    3rd  29.00   male   \n\n      Survived  SexCode  \n0            1        1  \n1            0        1  \n2            0        0  \n3            0        1  \n4            1        0  \n...        ...      ...  \n1308         0        0  \n1309         0        0  \n1310         0        0  \n1311         0        0  \n1312         0        0  \n\n[1313 rows x 6 columns]\n"
     ]
    }
   ],
   "source": [
    "print(dataframe)"
   ]
  },
  {
   "cell_type": "code",
   "execution_count": 25,
   "metadata": {},
   "outputs": [
    {
     "name": "stdout",
     "output_type": "stream",
     "text": [
      "oldest: 71.0\n"
     ]
    }
   ],
   "source": [
    "print(\"oldest:\",dataframe['Age'].max())"
   ]
  },
  {
   "cell_type": "code",
   "execution_count": 26,
   "metadata": {},
   "outputs": [
    {
     "name": "stdout",
     "output_type": "stream",
     "text": [
      "                                            Name passenger class    Age  \\\n0                   Allen, Miss Elisabeth Walton             1st  29.00   \n1                    Allison, Miss Helen Loraine             1st   2.00   \n2            Allison, Mr Hudson Joshua Creighton             1st  30.00   \n3  Allison, Mrs Hudson JC (Bessie Waldo Daniels)             1st  25.00   \n4                  Allison, Master Hudson Trevor             1st   0.92   \n5                             Anderson, Mr Harry             1st  47.00   \n6               Andrews, Miss Kornelia Theodosia             1st  63.00   \n7                         Andrews, Mr Thomas, jr             1st  39.00   \n8   Appleton, Mrs Edward Dale (Charlotte Lamson)             1st  58.00   \n9                         Artagaveytia, Mr Ramon             1st  71.00   \n\n     Sex  Survived  SexCode  \n0  women         1        1  \n1  women         0        1  \n2   male         0        0  \n3  women         0        1  \n4   male         1        0  \n5   male         1        0  \n6  women         1        1  \n7   male         0        0  \n8  women         1        1  \n9   male         0        0  \n"
     ]
    }
   ],
   "source": [
    "dataframe=dataframe.rename(columns={\n",
    "    \"PClass\":\"passenger class\"\n",
    "})\n",
    "print(dataframe.head(10))"
   ]
  },
  {
   "cell_type": "code",
   "execution_count": 28,
   "metadata": {},
   "outputs": [
    {
     "name": "stdout",
     "output_type": "stream",
     "text": [
      "['women' 'male']\n"
     ]
    }
   ],
   "source": [
    "print(dataframe['Sex'].unique())"
   ]
  },
  {
   "cell_type": "code",
   "execution_count": 29,
   "metadata": {},
   "outputs": [
    {
     "name": "stdout",
     "output_type": "stream",
     "text": [
      "             Age  Survived  SexCode\nSex                                \nmale   31.014338  0.166863      0.0\nwomen  29.396424  0.666667      1.0\n"
     ]
    }
   ],
   "source": [
    "print(dataframe.groupby('Sex').mean())"
   ]
  },
  {
   "cell_type": "code",
   "execution_count": 30,
   "metadata": {},
   "outputs": [
    {
     "name": "stdout",
     "output_type": "stream",
     "text": [
      "Sex    Survived\nmale   0           32.320780\n       1           25.951875\nwomen  0           24.901408\n       1           30.867143\nName: Age, dtype: float64\n"
     ]
    }
   ],
   "source": [
    "print(dataframe.groupby(['Sex','Survived'])['Age'].mean())"
   ]
  },
  {
   "cell_type": "code",
   "execution_count": null,
   "metadata": {},
   "outputs": [],
   "source": []
  }
 ],
 "metadata": {
  "kernelspec": {
   "display_name": "Python 2",
   "language": "python",
   "name": "python2"
  },
  "language_info": {
   "codemirror_mode": {
    "name": "ipython",
    "version": 2
   },
   "file_extension": ".py",
   "mimetype": "text/x-python",
   "name": "python",
   "nbconvert_exporter": "python",
   "pygments_lexer": "ipython2",
   "version": "2.7.6"
  }
 },
 "nbformat": 4,
 "nbformat_minor": 0
}
