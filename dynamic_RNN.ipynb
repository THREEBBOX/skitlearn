{
 "cells": [
  {
   "cell_type": "code",
   "execution_count": 2,
   "metadata": {
    "collapsed": true
   },
   "outputs": [],
   "source": [
    "\"\"\"\n",
    "动态RNN方法，非固定序列长度方法\n",
    "\"\"\"\n",
    "import tensorflow as tf\n",
    "import numpy as np"
   ]
  },
  {
   "cell_type": "code",
   "execution_count": 3,
   "metadata": {},
   "outputs": [],
   "source": [
    "n_step = 2\n",
    "n_input = 3\n",
    "n_neurons = 5"
   ]
  },
  {
   "cell_type": "code",
   "execution_count": 4,
   "metadata": {},
   "outputs": [
    {
     "name": "stdout",
     "output_type": "stream",
     "text": [
      "\nWARNING: The TensorFlow contrib module will not be included in TensorFlow 2.0.\nFor more information, please see:\n  * https://github.com/tensorflow/community/blob/master/rfcs/20180907-contrib-sunset.md\n  * https://github.com/tensorflow/addons\nIf you depend on functionality not listed there, please file an issue.\n\nWARNING:tensorflow:From <ipython-input-4-a44ae4ae37c8>:4: BasicRNNCell.__init__ (from tensorflow.python.ops.rnn_cell_impl) is deprecated and will be removed in a future version.\nInstructions for updating:\nThis class is equivalent as tf.keras.layers.SimpleRNNCell, and will be replaced by that in Tensorflow 2.0.\n"
     ]
    },
    {
     "name": "stdout",
     "output_type": "stream",
     "text": [
      "WARNING:tensorflow:From <ipython-input-4-a44ae4ae37c8>:5: dynamic_rnn (from tensorflow.python.ops.rnn) is deprecated and will be removed in a future version.\nInstructions for updating:\nPlease use `keras.layers.RNN(cell)`, which is equivalent to this API\n"
     ]
    },
    {
     "name": "stdout",
     "output_type": "stream",
     "text": [
      "WARNING:tensorflow:From E:\\Jupystertry\\lib\\site-packages\\tensorflow\\python\\ops\\rnn.py:626: to_int32 (from tensorflow.python.ops.math_ops) is deprecated and will be removed in a future version.\nInstructions for updating:\nUse tf.cast instead.\n"
     ]
    },
    {
     "name": "stdout",
     "output_type": "stream",
     "text": [
      "WARNING:tensorflow:From E:\\Jupystertry\\lib\\site-packages\\tensorflow\\python\\ops\\tensor_array_ops.py:162: colocate_with (from tensorflow.python.framework.ops) is deprecated and will be removed in a future version.\nInstructions for updating:\nColocations handled automatically by placer.\n"
     ]
    }
   ],
   "source": [
    "x=tf.placeholder(tf.float32,[None,n_step,n_input])\n",
    "seq_length=tf.placeholder(tf.int32,[None])#改变序列长度\n",
    "x_seqs=tf.unstack(tf.transpose(x,[1,0,2]))\n",
    "basic_cell=tf.contrib.rnn.BasicRNNCell(num_units=n_neurons)\n",
    "outseq,state=tf.nn.dynamic_rnn(basic_cell,x,dtype=tf.float32,sequence_length=seq_length)\n",
    "output=tf.transpose(outseq,[1,0,2])"
   ]
  },
  {
   "cell_type": "code",
   "execution_count": 5,
   "metadata": {},
   "outputs": [],
   "source": [
    "xbatch=np.array(range(30))\n",
    "xbatch=np.reshape(xbatch,newshape=[5,2,3])"
   ]
  },
  {
   "cell_type": "code",
   "execution_count": 10,
   "metadata": {},
   "outputs": [],
   "source": [
    "init=tf.global_variables_initializer()\n",
    "length_seq=[2,1,2,1,2]"
   ]
  },
  {
   "cell_type": "code",
   "execution_count": 11,
   "metadata": {},
   "outputs": [
    {
     "name": "stdout",
     "output_type": "stream",
     "text": [
      "[[[-0.9469192  -0.7369663   0.15045689 -0.6445312   0.45017895]\n  [-1.         -0.9999999   0.98983705  0.5528362  -0.99501574]\n  [-1.         -1.          0.99992937  0.96478266 -0.9999953 ]\n  [-1.         -1.          0.9999995   0.99777114 -1.        ]\n  [-1.         -1.          1.          0.9998611  -1.        ]]\n\n [[-0.999868   -0.99988097  0.5916105  -0.16594942 -0.94411266]\n  [ 0.          0.          0.          0.          0.        ]\n  [-1.         -1.          0.9999808   0.91167814 -1.        ]\n  [ 0.          0.          0.          0.          0.        ]\n  [-1.         -1.          1.          0.99962765 -1.        ]]]\n"
     ]
    }
   ],
   "source": [
    "with tf.Session() as sess:\n",
    "    init.run()\n",
    "    outval = output.eval(feed_dict={\n",
    "        x: xbatch,\n",
    "        seq_length:length_seq\n",
    "    })\n",
    "print(outval)"
   ]
  }
 ],
 "metadata": {
  "kernelspec": {
   "display_name": "Python 2",
   "language": "python",
   "name": "python2"
  },
  "language_info": {
   "codemirror_mode": {
    "name": "ipython",
    "version": 2
   },
   "file_extension": ".py",
   "mimetype": "text/x-python",
   "name": "python",
   "nbconvert_exporter": "python",
   "pygments_lexer": "ipython2",
   "version": "2.7.6"
  }
 },
 "nbformat": 4,
 "nbformat_minor": 0
}
